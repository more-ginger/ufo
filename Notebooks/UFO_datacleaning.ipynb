{
 "cells": [
  {
   "cell_type": "markdown",
   "metadata": {},
   "source": [
    "### Data Cleaning"
   ]
  },
  {
   "cell_type": "markdown",
   "metadata": {},
   "source": [
    "Tasks:\n",
    "- convert datetime to actual dt object with this notation `%YYYY-%MM-%DD %HH:%mm:%ss` to ensure max compatibility with existing code\n",
    "- clean comments all the `,` and `[ ]` need to be removed, the string needs to be wrapped in quotation marks to avoid breaking the csv\n",
    "- create a country field, for cities in the us it's fairly easy: filter every field in 'state' that does not have `<br/>` as value. For cities outside it's a bit more complicated, maybe it's possible to use the 'city' field and get the string between parenthesis (which usually contains info on countries.\n",
    "- add coordinates to cities (for now feasible solution is: https://geopy.readthedocs.io/en/stable/#"
   ]
  },
  {
   "cell_type": "code",
   "execution_count": 1,
   "metadata": {},
   "outputs": [],
   "source": [
    "import pandas as pd\n",
    "from geopy.geocoders import Nominatim"
   ]
  },
  {
   "cell_type": "code",
   "execution_count": 19,
   "metadata": {},
   "outputs": [],
   "source": [
    "allYears = pd.read_csv('data/allyears.csv')"
   ]
  },
  {
   "cell_type": "code",
   "execution_count": 52,
   "metadata": {
    "scrolled": true
   },
   "outputs": [
    {
     "data": {
      "text/html": [
       "<div>\n",
       "<style scoped>\n",
       "    .dataframe tbody tr th:only-of-type {\n",
       "        vertical-align: middle;\n",
       "    }\n",
       "\n",
       "    .dataframe tbody tr th {\n",
       "        vertical-align: top;\n",
       "    }\n",
       "\n",
       "    .dataframe thead th {\n",
       "        text-align: right;\n",
       "    }\n",
       "</style>\n",
       "<table border=\"1\" class=\"dataframe\">\n",
       "  <thead>\n",
       "    <tr style=\"text-align: right;\">\n",
       "      <th></th>\n",
       "      <th>Unnamed: 0</th>\n",
       "      <th>datetime</th>\n",
       "      <th>city</th>\n",
       "      <th>state</th>\n",
       "      <th>shape</th>\n",
       "      <th>comment</th>\n",
       "    </tr>\n",
       "  </thead>\n",
       "  <tbody>\n",
       "    <tr>\n",
       "      <th>0</th>\n",
       "      <td>0</td>\n",
       "      <td>12/23/20 07:30</td>\n",
       "      <td>Canadian Lakes</td>\n",
       "      <td>MI</td>\n",
       "      <td>Light</td>\n",
       "      <td>light in sky ,no sound</td>\n",
       "    </tr>\n",
       "    <tr>\n",
       "      <th>1</th>\n",
       "      <td>1</td>\n",
       "      <td>12/23/20 03:18</td>\n",
       "      <td>Grants</td>\n",
       "      <td>CA</td>\n",
       "      <td>Light</td>\n",
       "      <td>Bright Orb seen below plane level at Mach 1+ S...</td>\n",
       "    </tr>\n",
       "    <tr>\n",
       "      <th>2</th>\n",
       "      <td>2</td>\n",
       "      <td>12/23/20 03:00</td>\n",
       "      <td>East Quogue</td>\n",
       "      <td>NY</td>\n",
       "      <td>Other</td>\n",
       "      <td>flickering colored lights in the night sky, in...</td>\n",
       "    </tr>\n",
       "    <tr>\n",
       "      <th>3</th>\n",
       "      <td>3</td>\n",
       "      <td>12/22/20 22:45</td>\n",
       "      <td>Indian River Shores</td>\n",
       "      <td>FL</td>\n",
       "      <td>Changing</td>\n",
       "      <td>Orange orb over Indian River Shores Florida</td>\n",
       "    </tr>\n",
       "    <tr>\n",
       "      <th>4</th>\n",
       "      <td>4</td>\n",
       "      <td>12/22/20 22:05</td>\n",
       "      <td>lake elsinore</td>\n",
       "      <td>CA</td>\n",
       "      <td>Light</td>\n",
       "      <td>saw a glowing object.shape not discerned. trav...</td>\n",
       "    </tr>\n",
       "  </tbody>\n",
       "</table>\n",
       "</div>"
      ],
      "text/plain": [
       "   Unnamed: 0        datetime                 city state     shape  \\\n",
       "0           0  12/23/20 07:30       Canadian Lakes    MI     Light   \n",
       "1           1  12/23/20 03:18               Grants    CA     Light   \n",
       "2           2  12/23/20 03:00          East Quogue    NY     Other   \n",
       "3           3  12/22/20 22:45  Indian River Shores    FL  Changing   \n",
       "4           4  12/22/20 22:05        lake elsinore    CA     Light   \n",
       "\n",
       "                                             comment  \n",
       "0                             light in sky ,no sound  \n",
       "1  Bright Orb seen below plane level at Mach 1+ S...  \n",
       "2  flickering colored lights in the night sky, in...  \n",
       "3        Orange orb over Indian River Shores Florida  \n",
       "4  saw a glowing object.shape not discerned. trav...  "
      ]
     },
     "execution_count": 52,
     "metadata": {},
     "output_type": "execute_result"
    }
   ],
   "source": [
    "allYears.head(5)"
   ]
  },
  {
   "cell_type": "markdown",
   "metadata": {},
   "source": [
    "Dropping accidentally scraped duplicates"
   ]
  },
  {
   "cell_type": "code",
   "execution_count": 26,
   "metadata": {},
   "outputs": [],
   "source": [
    "noDuplicates = allYears.drop_duplicates(subset=\"comment\", keep=\"first\")"
   ]
  },
  {
   "cell_type": "code",
   "execution_count": 41,
   "metadata": {
    "scrolled": true
   },
   "outputs": [],
   "source": [
    "consistentStructure = noDuplicates.drop(['Unnamed: 0'], axis=1)"
   ]
  },
  {
   "cell_type": "code",
   "execution_count": 39,
   "metadata": {},
   "outputs": [
    {
     "data": {
      "text/plain": [
       "Unnamed: 0    0\n",
       "datetime      0\n",
       "city          0\n",
       "state         0\n",
       "shape         0\n",
       "comment       1\n",
       "dtype: int64"
      ]
     },
     "execution_count": 39,
     "metadata": {},
     "output_type": "execute_result"
    }
   ],
   "source": [
    "#check nan\n",
    "noDuplicates.isna().sum()"
   ]
  },
  {
   "cell_type": "markdown",
   "metadata": {},
   "source": [
    "Convert datetime from string to timedate obj"
   ]
  },
  {
   "cell_type": "code",
   "execution_count": 47,
   "metadata": {},
   "outputs": [],
   "source": [
    "consistentStructure['datetime'] = pd.to_datetime(consistentStructure['datetime'])"
   ]
  },
  {
   "cell_type": "code",
   "execution_count": 51,
   "metadata": {},
   "outputs": [
    {
     "data": {
      "text/html": [
       "<div>\n",
       "<style scoped>\n",
       "    .dataframe tbody tr th:only-of-type {\n",
       "        vertical-align: middle;\n",
       "    }\n",
       "\n",
       "    .dataframe tbody tr th {\n",
       "        vertical-align: top;\n",
       "    }\n",
       "\n",
       "    .dataframe thead th {\n",
       "        text-align: right;\n",
       "    }\n",
       "</style>\n",
       "<table border=\"1\" class=\"dataframe\">\n",
       "  <thead>\n",
       "    <tr style=\"text-align: right;\">\n",
       "      <th></th>\n",
       "      <th>datetime</th>\n",
       "      <th>city</th>\n",
       "      <th>state</th>\n",
       "      <th>shape</th>\n",
       "      <th>comment</th>\n",
       "    </tr>\n",
       "  </thead>\n",
       "  <tbody>\n",
       "    <tr>\n",
       "      <th>0</th>\n",
       "      <td>2020-12-23 07:30:00</td>\n",
       "      <td>Canadian Lakes</td>\n",
       "      <td>MI</td>\n",
       "      <td>Light</td>\n",
       "      <td>light in sky ,no sound</td>\n",
       "    </tr>\n",
       "    <tr>\n",
       "      <th>1</th>\n",
       "      <td>2020-12-23 03:18:00</td>\n",
       "      <td>Grants</td>\n",
       "      <td>CA</td>\n",
       "      <td>Light</td>\n",
       "      <td>Bright Orb seen below plane level at Mach 1+ S...</td>\n",
       "    </tr>\n",
       "    <tr>\n",
       "      <th>2</th>\n",
       "      <td>2020-12-23 03:00:00</td>\n",
       "      <td>East Quogue</td>\n",
       "      <td>NY</td>\n",
       "      <td>Other</td>\n",
       "      <td>flickering colored lights in the night sky, in...</td>\n",
       "    </tr>\n",
       "    <tr>\n",
       "      <th>3</th>\n",
       "      <td>2020-12-22 22:45:00</td>\n",
       "      <td>Indian River Shores</td>\n",
       "      <td>FL</td>\n",
       "      <td>Changing</td>\n",
       "      <td>Orange orb over Indian River Shores Florida</td>\n",
       "    </tr>\n",
       "    <tr>\n",
       "      <th>4</th>\n",
       "      <td>2020-12-22 22:05:00</td>\n",
       "      <td>lake elsinore</td>\n",
       "      <td>CA</td>\n",
       "      <td>Light</td>\n",
       "      <td>saw a glowing object.shape not discerned. trav...</td>\n",
       "    </tr>\n",
       "  </tbody>\n",
       "</table>\n",
       "</div>"
      ],
      "text/plain": [
       "             datetime                 city state     shape  \\\n",
       "0 2020-12-23 07:30:00       Canadian Lakes    MI     Light   \n",
       "1 2020-12-23 03:18:00               Grants    CA     Light   \n",
       "2 2020-12-23 03:00:00          East Quogue    NY     Other   \n",
       "3 2020-12-22 22:45:00  Indian River Shores    FL  Changing   \n",
       "4 2020-12-22 22:05:00        lake elsinore    CA     Light   \n",
       "\n",
       "                                             comment  \n",
       "0                             light in sky ,no sound  \n",
       "1  Bright Orb seen below plane level at Mach 1+ S...  \n",
       "2  flickering colored lights in the night sky, in...  \n",
       "3        Orange orb over Indian River Shores Florida  \n",
       "4  saw a glowing object.shape not discerned. trav...  "
      ]
     },
     "execution_count": 51,
     "metadata": {},
     "output_type": "execute_result"
    }
   ],
   "source": [
    "consistentStructure.head(5)"
   ]
  },
  {
   "cell_type": "code",
   "execution_count": 50,
   "metadata": {},
   "outputs": [
    {
     "data": {
      "text/plain": [
       "datetime    datetime64[ns]\n",
       "city                object\n",
       "state               object\n",
       "shape               object\n",
       "comment             object\n",
       "dtype: object"
      ]
     },
     "execution_count": 50,
     "metadata": {},
     "output_type": "execute_result"
    }
   ],
   "source": [
    "#check formats\n",
    "consistentStructure.dtypes"
   ]
  },
  {
   "cell_type": "code",
   "execution_count": null,
   "metadata": {},
   "outputs": [],
   "source": []
  }
 ],
 "metadata": {
  "kernelspec": {
   "display_name": "my_env",
   "language": "python",
   "name": "my_env"
  },
  "language_info": {
   "codemirror_mode": {
    "name": "ipython",
    "version": 3
   },
   "file_extension": ".py",
   "mimetype": "text/x-python",
   "name": "python",
   "nbconvert_exporter": "python",
   "pygments_lexer": "ipython3",
   "version": "3.8.5"
  }
 },
 "nbformat": 4,
 "nbformat_minor": 4
}
